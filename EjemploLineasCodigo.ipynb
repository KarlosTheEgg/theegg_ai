{
 "cells": [
  {
   "cell_type": "code",
   "execution_count": 15,
   "id": "01a3f948",
   "metadata": {},
   "outputs": [
    {
     "name": "stdout",
     "output_type": "stream",
     "text": [
      "10\n"
     ]
    }
   ],
   "source": [
    "print(4 + 6)"
   ]
  },
  {
   "cell_type": "code",
   "execution_count": 16,
   "id": "df94bbb5",
   "metadata": {},
   "outputs": [
    {
     "name": "stdout",
     "output_type": "stream",
     "text": [
      "46\n"
     ]
    }
   ],
   "source": [
    "print(\"4\" + \"6\")"
   ]
  },
  {
   "cell_type": "code",
   "execution_count": 17,
   "id": "ef469c25",
   "metadata": {},
   "outputs": [
    {
     "name": "stdout",
     "output_type": "stream",
     "text": [
      "4 6\n"
     ]
    }
   ],
   "source": [
    "print(\"4 \" + \"6\") # He añadido un espacio despues del 4"
   ]
  },
  {
   "cell_type": "code",
   "execution_count": 18,
   "id": "2ad69735",
   "metadata": {},
   "outputs": [
    {
     "name": "stdout",
     "output_type": "stream",
     "text": [
      "4 6 8\n"
     ]
    }
   ],
   "source": [
    "print(\"4\",\"6\", \"8\", sep=\" \")# añade la cadena de sep entre los ente comillados"
   ]
  },
  {
   "cell_type": "code",
   "execution_count": 19,
   "id": "63c44580",
   "metadata": {},
   "outputs": [
    {
     "name": "stdout",
     "output_type": "stream",
     "text": [
      "4\n",
      "6\n",
      "8\n"
     ]
    }
   ],
   "source": [
    "print(\"4\")\n",
    "print(6)\n",
    "print(\"8\")"
   ]
  },
  {
   "cell_type": "code",
   "execution_count": 20,
   "id": "6f3e574b",
   "metadata": {},
   "outputs": [
    {
     "name": "stdout",
     "output_type": "stream",
     "text": [
      "4 6\n",
      "8\n"
     ]
    }
   ],
   "source": [
    "print(\"4\", end=\" \")\n",
    "print(6)\n",
    "print(\"8\")"
   ]
  },
  {
   "cell_type": "code",
   "execution_count": 21,
   "id": "7a694fb7",
   "metadata": {},
   "outputs": [
    {
     "name": "stdout",
     "output_type": "stream",
     "text": [
      "4 6 8\n"
     ]
    }
   ],
   "source": [
    "print(\"4\", end=\" \")\n",
    "print(6, end=\" \")\n",
    "print(\"8\")"
   ]
  },
  {
   "cell_type": "code",
   "execution_count": 22,
   "id": "3447d14e",
   "metadata": {},
   "outputs": [
    {
     "name": "stdout",
     "output_type": "stream",
     "text": [
      "Hasta aqui los ejemplos con la funcion PRINT\n"
     ]
    }
   ],
   "source": [
    "print(\"Hasta aqui los ejemplos con la funcion PRINT\")"
   ]
  },
  {
   "cell_type": "code",
   "execution_count": 29,
   "id": "62d1aa86",
   "metadata": {},
   "outputs": [
    {
     "name": "stdout",
     "output_type": "stream",
     "text": [
      "37\n",
      "karlos\n",
      "Macarrones\n",
      "10\n",
      "3\n",
      "37\n"
     ]
    },
    {
     "ename": "NameError",
     "evalue": "name 'edad' is not defined",
     "output_type": "error",
     "traceback": [
      "\u001b[1;31m---------------------------------------------------------------------------\u001b[0m",
      "\u001b[1;31mNameError\u001b[0m                                 Traceback (most recent call last)",
      "\u001b[1;32m~\\AppData\\Local\\Temp/ipykernel_7264/1121019905.py\u001b[0m in \u001b[0;36m<module>\u001b[1;34m\u001b[0m\n\u001b[0;32m     26\u001b[0m \u001b[1;32mdel\u001b[0m \u001b[0medad\u001b[0m \u001b[1;31m#Borrado de la variable edad.... la del principio\u001b[0m\u001b[1;33m\u001b[0m\u001b[1;33m\u001b[0m\u001b[0m\n\u001b[0;32m     27\u001b[0m \u001b[1;33m\u001b[0m\u001b[0m\n\u001b[1;32m---> 28\u001b[1;33m \u001b[0mprint\u001b[0m\u001b[1;33m(\u001b[0m\u001b[0medad\u001b[0m\u001b[1;33m)\u001b[0m \u001b[1;31m#Devuleve error ya que hemos borrado la variable\u001b[0m\u001b[1;33m\u001b[0m\u001b[1;33m\u001b[0m\u001b[0m\n\u001b[0m",
      "\u001b[1;31mNameError\u001b[0m: name 'edad' is not defined"
     ]
    }
   ],
   "source": [
    "edad = 37 #Declara una variable de tipo entero y le asigna el 37\n",
    "nombre = \"karlos\" #Declara una variable de tipo string\n",
    "precio = \"Macarrones\" #Aunque no da error, no es conveniente porner con un identificador llamado precio un valor que seria ingrediente\n",
    "\n",
    "#PALABRAS RESERVADAS QUE NO PUEDEN SER NOMBRES DE VARIABLES\n",
    "\n",
    "#FALSE NONE TRUE AND AS ASSERT BREAK CLASS IF DEF DEL ELIF ELSA ESCEPT RETURN FOR FROM GLOBAL TRY\n",
    "#IMPORT IN IS LAMBDA WHILE NOT OR PASS RAISE FINALLY CONTINUE WITH NONLOCAL WITH YIELD\n",
    "\n",
    "#Los nombre de las variables tiene que empezar por letras o guion bajo y despues puedes añadir numeros\n",
    "#9pulso no _9pulso si\n",
    "\n",
    "print(edad)\n",
    "print(nombre)\n",
    "print(precio)\n",
    "\n",
    "años,altura=31,175 #mete 31 en la variable años y 175 en la variable altura\n",
    "\n",
    "suma, resta = 3, 10\n",
    "suma, resta = resta, suma #intercala los valores\n",
    "\n",
    "print(suma)\n",
    "print(resta)\n",
    "print(edad)\n",
    "\n",
    "a=b=55 #asigna el mismo valor a las dos variables\n",
    "del edad #Borrado de la variable edad.... la del principio\n",
    "\n",
    "print(edad) #Devuleve error ya que hemos borrado la variable"
   ]
  },
  {
   "cell_type": "code",
   "execution_count": null,
   "id": "f4e946b8",
   "metadata": {},
   "outputs": [],
   "source": []
  }
 ],
 "metadata": {
  "kernelspec": {
   "display_name": "Python 3 (ipykernel)",
   "language": "python",
   "name": "python3"
  },
  "language_info": {
   "codemirror_mode": {
    "name": "ipython",
    "version": 3
   },
   "file_extension": ".py",
   "mimetype": "text/x-python",
   "name": "python",
   "nbconvert_exporter": "python",
   "pygments_lexer": "ipython3",
   "version": "3.9.7"
  }
 },
 "nbformat": 4,
 "nbformat_minor": 5
}
