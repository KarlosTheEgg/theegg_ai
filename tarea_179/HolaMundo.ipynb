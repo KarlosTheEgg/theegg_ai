{
 "cells": [
  {
   "cell_type": "code",
   "execution_count": 4,
   "id": "3204d7a0",
   "metadata": {},
   "outputs": [
    {
     "name": "stdout",
     "output_type": "stream",
     "text": [
      "Hola mundo\n"
     ]
    }
   ],
   "source": [
    "print (\"Hola mundo\")"
   ]
  },
  {
   "cell_type": "code",
   "execution_count": 5,
   "id": "55e1b891",
   "metadata": {},
   "outputs": [
    {
     "name": "stdout",
     "output_type": "stream",
     "text": [
      "Hola<>mundo _\n"
     ]
    }
   ],
   "source": [
    "print (\"Hola\", \"mundo _\", sep=\"<>\")"
   ]
  },
  {
   "cell_type": "code",
   "execution_count": 8,
   "id": "83cfd14a",
   "metadata": {},
   "outputs": [
    {
     "name": "stdout",
     "output_type": "stream",
     "text": [
      "Hola pesado, es la primera vez que te lo digo __ Hasta la vista\n"
     ]
    }
   ],
   "source": [
    "print(\"Hola pesado, es la primera vez que te lo digo\", end= \" __ \")\n",
    "print(\"Hasta la vista\")"
   ]
  },
  {
   "cell_type": "code",
   "execution_count": null,
   "id": "04e15007",
   "metadata": {},
   "outputs": [],
   "source": []
  }
 ],
 "metadata": {
  "kernelspec": {
   "display_name": "Python 3 (ipykernel)",
   "language": "python",
   "name": "python3"
  },
  "language_info": {
   "codemirror_mode": {
    "name": "ipython",
    "version": 3
   },
   "file_extension": ".py",
   "mimetype": "text/x-python",
   "name": "python",
   "nbconvert_exporter": "python",
   "pygments_lexer": "ipython3",
   "version": "3.9.7"
  }
 },
 "nbformat": 4,
 "nbformat_minor": 5
}
